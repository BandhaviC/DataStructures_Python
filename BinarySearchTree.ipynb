{
 "cells": [
  {
   "attachments": {},
   "cell_type": "markdown",
   "metadata": {},
   "source": [
    "Constructer sets 3 attributes: data, left subtree and right subtree.\n",
    "Insert: inserts new subtree into the proper location.\n",
    "Find: finds a value. If value not found, returns False.\n",
    "Get_size: returns the number of nodes in the tree (excluding None nodes).\n",
    "Preorder: prints a preorder traversal of the tree.\n",
    "Inorder: prints an inorder traversal of the tree."
   ]
  },
  {
   "cell_type": "code",
   "execution_count": null,
   "metadata": {},
   "outputs": [],
   "source": []
  }
 ],
 "metadata": {
  "language_info": {
   "name": "python"
  },
  "orig_nbformat": 4
 },
 "nbformat": 4,
 "nbformat_minor": 2
}
