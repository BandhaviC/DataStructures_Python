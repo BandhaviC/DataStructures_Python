{
 "cells": [
  {
   "cell_type": "code",
   "execution_count": 36,
   "metadata": {},
   "outputs": [],
   "source": [
    "class MaxHeap:\n",
    "\tdef __init__(self, items=[]):\n",
    "\t\tsuper().__init__()\n",
    "\t\tself.heap = [0]\n",
    "\t\tfor item in items:\n",
    "\t\t\tself.heap.append(item)\n",
    "\t\t\tself.floatUp(len(self.heap) - 1)\n",
    "\n",
    "\tdef push(self, data):\n",
    "\t\tself.heap.append(data)\n",
    "\t\tself.floatUp(len(self.heap) - 1)\n",
    "\n",
    "\tdef peek(self):\n",
    "\t\tif self.heap[1]:\n",
    "\t\t\treturn self.heap[1]\n",
    "\t\telse:\n",
    "\t\t\treturn False\n",
    "\n",
    "\tdef pop(self):\n",
    "\t\tif len(self.heap) > 2:\n",
    "\t\t\tself.swap(1, len(self.heap) - 1)\n",
    "\t\t\tmax= self.heap.pop()\n",
    "\t\t\tself.bubbleDown(1)\n",
    "\t\telif len(self.heap) == 2:\n",
    "\t\t\tmax = self.heap.pop()\n",
    "\t\telse:\n",
    "\t\t\tmax= False\n",
    "\t\treturn max\n",
    "\n",
    "\tdef swap(self,i,j):\n",
    "\t\tself.heap[i],self.heap[j]= self.heap[j], self.heap[i]\n",
    "\n",
    "\tdef floatUp(self, index):\n",
    "\t\tparent = index//2\n",
    "\t\tif index <= 1:\n",
    "\t\t\treturn\n",
    "\t\telif self.heap[index] > self.heap[parent]:\n",
    "\t\t\tself.swap(index, parent)\n",
    "\t\t\tself.floatUp(parent)\n",
    "\n",
    "\tdef bubbleDown(self,index):\n",
    "\t\tleft= index * 2\n",
    "\t\tright= index * 2 + 1\n",
    "\t\tlargest= index\n",
    "\t\tif len(self.heap) > left and self.heap[largest]< self.heap[left]:\n",
    "\t\t\tlargest = left\n",
    "\t\tif len(self.heap) > right and self.heap[largest]< self.heap[right]:\n",
    "\t\t\tlargest = right\n",
    "\t\tif largest != index:\n",
    "\t\t\tself.swap(index, largest)\n",
    "\t\t\tself.bubbleDown(largest)\n",
    "\n",
    "\n",
    "\tdef __str__(self):\n",
    "\t\treturn str(self.heap)"
   ]
  },
  {
   "cell_type": "code",
   "execution_count": 45,
   "metadata": {},
   "outputs": [],
   "source": [
    "m = MaxHeap([95, 3, 21])\n"
   ]
  },
  {
   "cell_type": "code",
   "execution_count": 46,
   "metadata": {},
   "outputs": [
    {
     "name": "stdout",
     "output_type": "stream",
     "text": [
      "[0, 95, 10, 21, 3]\n",
      "95\n",
      "21\n"
     ]
    }
   ],
   "source": [
    "m.push(10)\n",
    "print(m)\n",
    "print(m.pop())\n",
    "print(m.peek())"
   ]
  }
 ],
 "metadata": {
  "kernelspec": {
   "display_name": "base",
   "language": "python",
   "name": "python3"
  },
  "language_info": {
   "codemirror_mode": {
    "name": "ipython",
    "version": 3
   },
   "file_extension": ".py",
   "mimetype": "text/x-python",
   "name": "python",
   "nbconvert_exporter": "python",
   "pygments_lexer": "ipython3",
   "version": "3.8.8"
  },
  "orig_nbformat": 4,
  "vscode": {
   "interpreter": {
    "hash": "bd5d30e4ea369cc9353630f904b410c7a3bdebfd7ef17833eef9c8ea3f75d90a"
   }
  }
 },
 "nbformat": 4,
 "nbformat_minor": 2
}
