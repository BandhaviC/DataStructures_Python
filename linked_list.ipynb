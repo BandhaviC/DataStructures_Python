{
 "cells": [
  {
   "attachments": {},
   "cell_type": "markdown",
   "metadata": {},
   "source": [
    "A node contains two parts that is data and a pointer to the next node. Each node is connected to next node.\n",
    "Root node is the first node in the linked list.\n",
    "Node class has a constructor that sets the data passed in. It also has a str method to give a string representation for printing. prev_node is only used for Doubly linked lists."
   ]
  },
  {
   "cell_type": "code",
   "execution_count": 1,
   "metadata": {},
   "outputs": [],
   "source": [
    "class Node: \n",
    "    def __init__(self, d, n=None, p=None):\n",
    "        self.data= d \n",
    "        self.next_node= n\n",
    "        self.prev_node= p\n",
    "    def __str__(self):\n",
    "        return ('(' + str(self.data) + ')')\n"
   ]
  },
  {
   "cell_type": "code",
   "execution_count": 12,
   "metadata": {},
   "outputs": [],
   "source": [
    "class LinkedList:\n",
    "    def __init__(self, r= None):\n",
    "        self.root= r\n",
    "        self.size = 0\n",
    "\n",
    "    def add(self,d):\n",
    "        new_node= Node(d, self.root)\n",
    "        self.root= new_node\n",
    "        self.size +=1 \n",
    "        \n",
    "    def find(self,d):\n",
    "        this_node= self.root\n",
    "        while this_node is not None:\n",
    "            if this_node.data == d:\n",
    "                return d\n",
    "            else:\n",
    "                this_node= this_node.next_node\n",
    "        return None\n",
    "    \n",
    "    def remove(self, d):\n",
    "        this_node = self.root\n",
    "        prev_node= None\n",
    "\n",
    "        while this_node is not None:\n",
    "            if this_node.data == d:\n",
    "                if prev_node is not None: # data is in non-root\n",
    "                    prev_node.next_node= this_node.next_node\n",
    "                else:         # data is in root node\n",
    "                    self.root= this_node.next_node\n",
    "                self.size -= 1\n",
    "                return True     # data removed\n",
    "            else:\n",
    "                prev_node = this_node\n",
    "                this_node = this_node.next_node\n",
    "        return False            # data not found\n",
    "    \n",
    "    def print_list(self):\n",
    "        this_node = self.root\n",
    "        while this_node is not None:\n",
    "            print(this_node, end = '->')\n",
    "            this_node = this_node.next_node\n",
    "        print('None')\n"
   ]
  },
  {
   "attachments": {},
   "cell_type": "markdown",
   "metadata": {},
   "source": [
    "Linked List Test code- This test code adds nodes to the linked list, prints the list, prints the size, removes an item, and finds an item. \n",
    "Last item added to the linked list is at front of the list.\n"
   ]
  },
  {
   "cell_type": "code",
   "execution_count": 11,
   "metadata": {},
   "outputs": [
    {
     "name": "stdout",
     "output_type": "stream",
     "text": [
      "(12)->(8)->(5)->None\n",
      "size=3\n",
      "size=2\n",
      "5\n",
      "(12)\n"
     ]
    }
   ],
   "source": [
    "myList = LinkedList()\n",
    "myList.add(5)\n",
    "myList.add(8)\n",
    "myList.add(12)\n",
    "myList.print_list()\n",
    "\n",
    "print(\"size=\"+str(myList.size))\n",
    "myList.remove(8)\n",
    "print(\"size=\"+str(myList.size))\n",
    "print(myList.find(5))\n",
    "print(myList.root)\n",
    "\n"
   ]
  }
 ],
 "metadata": {
  "kernelspec": {
   "display_name": "base",
   "language": "python",
   "name": "python3"
  },
  "language_info": {
   "codemirror_mode": {
    "name": "ipython",
    "version": 3
   },
   "file_extension": ".py",
   "mimetype": "text/x-python",
   "name": "python",
   "nbconvert_exporter": "python",
   "pygments_lexer": "ipython3",
   "version": "3.8.8"
  },
  "orig_nbformat": 4,
  "vscode": {
   "interpreter": {
    "hash": "bd5d30e4ea369cc9353630f904b410c7a3bdebfd7ef17833eef9c8ea3f75d90a"
   }
  }
 },
 "nbformat": 4,
 "nbformat_minor": 2
}
