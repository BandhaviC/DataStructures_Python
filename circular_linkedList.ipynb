{
 "cells": [
  {
   "cell_type": "code",
   "execution_count": 1,
   "metadata": {},
   "outputs": [],
   "source": [
    "class Node: \n",
    "    def __init__(self, d, n=None, p=None):\n",
    "        self.data= d \n",
    "        self.next_node= n\n",
    "        self.prev_node= p\n",
    "    def __str__(self):\n",
    "        return ('(' + str(self.data) + ')')\n"
   ]
  },
  {
   "cell_type": "code",
   "execution_count": 2,
   "metadata": {},
   "outputs": [],
   "source": [
    "class CircularLinkedList:\n",
    "    def __init__(self,r = None):\n",
    "        self.root = r\n",
    "        self.size = 0\n",
    "    \n",
    "    def add(self,d):\n",
    "        if self.size == 0:    #check if list is empty\n",
    "            self.root = Node(d)   #add first node then make next node point to itself/root\n",
    "            self.root.next_node = self.root\n",
    "        else:\n",
    "            new_node = Node(d,self.root.next_node) #if atleast 1 node is in list, create new node and insert in 2nd position(after root node), change next node to point back to this new node.\n",
    "            self.root.next_node = new_node\n",
    "        self.size +=1\n",
    "    \n",
    "    def find (self,d):\n",
    "        this_node = self.root\n",
    "        while True:\n",
    "            if this_node.data == d:\n",
    "                return d\n",
    "            elif this_node.next_node == self.root: #check if we have circled all way back to the root node\n",
    "                return False\n",
    "            this_node = this_node.next_node\n",
    "    \n",
    "    def remove(self,d):   #we have to track this_node and previous node(prev_node)\n",
    "        this_node = self.root\n",
    "        prev_node = None\n",
    "\n",
    "        while True:\n",
    "            if this_node.data == d:  #found\n",
    "                if prev_node is not None:\n",
    "                    prev_node.next_node = this_node.next_node\n",
    "                else:\n",
    "                    while this_node.next_node != self.root:\n",
    "                        this_node = this_node.next_node\n",
    "                    this_node.next_node = self.root.next_node\n",
    "                    self.root = self.root.next_node\n",
    "                self.size -=1\n",
    "                return True  # data removed\n",
    "            elif this_node.next_node == self.root:\n",
    "                return False   # data not found\n",
    "            prev_node = this_node\n",
    "            this_node = this_node.next_node\n",
    "    \n",
    "    def print_list(self):\n",
    "        if self.root is None:\n",
    "            return\n",
    "        this_node = self.root\n",
    "        print(this_node, end = '->')\n",
    "        while this_node.next_node != self.root:   #this node is not the root node\n",
    "            this_node = this_node.next_node\n",
    "            print(this_node, end= '->')\n",
    "        print()\n"
   ]
  },
  {
   "cell_type": "code",
   "execution_count": 3,
   "metadata": {},
   "outputs": [
    {
     "name": "stdout",
     "output_type": "stream",
     "text": [
      "size=5\n",
      "8\n",
      "False\n",
      "(5)->(9)->(8)->(3)->(7)->(5)->(9)->(8)->(3)->\n"
     ]
    }
   ],
   "source": [
    "cll = CircularLinkedList()\n",
    "for i in [5, 7, 3, 8, 9]:\n",
    "    cll.add(i)\n",
    "\n",
    "print(\"size=\"+str(cll.size))\n",
    "print(cll.find(8))\n",
    "print(cll.find(12))\n",
    "\n",
    "my_node = cll.root\n",
    "print(my_node, end='->')\n",
    "for i in range(8):  # continue to loop/print upto 8 items in list\n",
    "    my_node= my_node.next_node\n",
    "    print(my_node,end='->')\n",
    "print()"
   ]
  },
  {
   "cell_type": "code",
   "execution_count": 9,
   "metadata": {},
   "outputs": [
    {
     "name": "stdout",
     "output_type": "stream",
     "text": [
      "(9)->(3)->(7)->\n",
      "False\n",
      "size=3\n",
      "(9)->(3)->(7)->\n"
     ]
    }
   ],
   "source": [
    "cll.print_list()\n",
    "cll.remove(8)\n",
    "print(cll.remove(15))\n",
    "print(\"size=\"+str(cll.size))\n",
    "cll.remove(5)   #delete the root node\n",
    "cll.print_list()\n"
   ]
  }
 ],
 "metadata": {
  "kernelspec": {
   "display_name": "base",
   "language": "python",
   "name": "python3"
  },
  "language_info": {
   "codemirror_mode": {
    "name": "ipython",
    "version": 3
   },
   "file_extension": ".py",
   "mimetype": "text/x-python",
   "name": "python",
   "nbconvert_exporter": "python",
   "pygments_lexer": "ipython3",
   "version": "3.8.8"
  },
  "orig_nbformat": 4,
  "vscode": {
   "interpreter": {
    "hash": "bd5d30e4ea369cc9353630f904b410c7a3bdebfd7ef17833eef9c8ea3f75d90a"
   }
  }
 },
 "nbformat": 4,
 "nbformat_minor": 2
}
