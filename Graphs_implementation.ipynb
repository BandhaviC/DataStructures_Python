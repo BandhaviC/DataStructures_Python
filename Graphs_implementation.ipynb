{
 "cells": [
  {
   "attachments": {},
   "cell_type": "markdown",
   "metadata": {},
   "source": [
    "Graph Implementation using Adjacency Lists\n",
    "\n",
    "Vertex Class:\n",
    "The vertex class has a constructor that sets the name of the vertex(a letter) and creates a new empty set to store neighbors.\n",
    "The add_neighbor method adds the name of a neighboring vertex to the neighbors set. This set automatically eliminates duplicates.\n"
   ]
  },
  {
   "cell_type": "code",
   "execution_count": 1,
   "metadata": {},
   "outputs": [],
   "source": [
    "class Vertex:\n",
    "    def __init__(self, n):   #name of the vertex\n",
    "        self.name = n\n",
    "        self.neighbors = set()     #empty set for the neighbors for that vertex #sets do not add duplicate values\n",
    "    def add_neighbor(self, v):\n",
    "        self.neighbors.add(v)"
   ]
  },
  {
   "attachments": {},
   "cell_type": "markdown",
   "metadata": {},
   "source": [
    "Graph Class:\n",
    "The graph class uses a dictionary to store vertices in the format, vertex_name: vertex_object.\n",
    "Adding a new vertex to the graph, we first check if it already exists in the graph. If both checks pass, then we add the vertex to the graph's vertices dictionary. \n",
    "When adding an edge, we receive two vertex names, we first check if both vertex names are valid, then we add each to the other's neighbors set.\n",
    "To print the graph, we iterate through the vertices, and print each vertex name (the key) followed by its sorted neighbors list."
   ]
  },
  {
   "cell_type": "code",
   "execution_count": 2,
   "metadata": {},
   "outputs": [],
   "source": [
    "class Graph:\n",
    "    vertices= {}     #vertex name and vertex object through the dictionary\n",
    "    \n",
    "    def add_vertex(self, vertex):\n",
    "        if isinstance(vertex, Vertex) and vertex.name not in self.vertices :\n",
    "            self.vertices[vertex.name] = vertex\n",
    "            return True\n",
    "        else:\n",
    "            return False\n",
    "    \n",
    "    def add_edge(self, u, v):\n",
    "        if u in self.vertices and v in self.vertices:\n",
    "            self.vertices[u].add_neighbor(v)\n",
    "            self.vertices[v].add_neighbor(u)\n",
    "            return True\n",
    "        else:\n",
    "            return False\n",
    "        \n",
    "\n",
    "    def print_graph(self):\n",
    "        for key in sorted(list(self.vertices.keys())):\n",
    "            print(key, sorted(list(self.vertices[key].neighbors)))"
   ]
  },
  {
   "attachments": {},
   "cell_type": "markdown",
   "metadata": {},
   "source": [
    "Test Code: Here we create a new Graph object. We create a new vertex named A. We add A to the graph. Then we add new vertex B to the graph. Then we iterate from A to K and add a bunch of vertices to the graph. Since the add_vertex method checks for duplicates, A and B are not added twice. There are 3 ways to add a vertex to the graph as shown below."
   ]
  },
  {
   "cell_type": "code",
   "execution_count": 3,
   "metadata": {},
   "outputs": [],
   "source": [
    "g = Graph()\n",
    "a = Vertex('A')\n",
    "g.add_vertex(a)\n",
    "g.add_vertex(Vertex('B'))\n",
    "for i in range( ord('A'), ord('K')):\n",
    "    g.add_vertex(Vertex(chr(i)))"
   ]
  },
  {
   "attachments": {},
   "cell_type": "markdown",
   "metadata": {},
   "source": [
    "An edge consists of two vertex names. Here we iterate through a list of edges and add each to the graph. \n",
    "This print_graph method doesn't give a good visualization of the graph, but it does show the neighbors for each vertex. "
   ]
  },
  {
   "cell_type": "code",
   "execution_count": 4,
   "metadata": {},
   "outputs": [
    {
     "name": "stdout",
     "output_type": "stream",
     "text": [
      "A ['B', 'E']\n",
      "B ['A', 'F']\n",
      "C ['G']\n",
      "D ['E', 'H']\n",
      "E ['A', 'D', 'H']\n",
      "F ['B', 'G', 'I', 'J']\n",
      "G ['C', 'F', 'J']\n",
      "H ['D', 'E']\n",
      "I ['F']\n",
      "J ['F', 'G']\n"
     ]
    }
   ],
   "source": [
    "edges = ['AB', 'AE', 'BF', 'CG', 'DE', 'DH', 'EH', 'FG', 'FI', 'FJ', 'GJ']\n",
    "for edge in edges:\n",
    "    g.add_edge(edge[0], edge[1])\n",
    "\n",
    "\n",
    "g.print_graph()"
   ]
  },
  {
   "attachments": {},
   "cell_type": "markdown",
   "metadata": {},
   "source": [
    "Graph Implementation Using Adjacency Matrix\n",
    "\n",
    "for undirected graph, with weighted or unweighted edges.\n",
    "\n",
    "Vertex Class: A vertex object only needs to store its name.\n"
   ]
  },
  {
   "cell_type": "code",
   "execution_count": 5,
   "metadata": {},
   "outputs": [],
   "source": [
    "class Vertex:\n",
    "    def __init__(self, n):   #name of the vertex\n",
    "        self.name = n"
   ]
  },
  {
   "attachments": {},
   "cell_type": "markdown",
   "metadata": {},
   "source": [
    "Graph Class:\n",
    "\n",
    "A graph object has 3 attributes:\n",
    "\n",
    "Vertices: a dictionary with vertex_name:vertex_object.\n",
    "\n",
    "Edges: a 2-dimensional list (i.e. a matrix) of edges. For an unweighted graph, it will contain 0 for no edge or 1 for edge.\n",
    "\n",
    "edge_indices: a dictionary with vertex_name:list_index (ex: A:0) to access edges.\n",
    "\n",
    "add_vertex method updates all 3 of these attributes.\n",
    "add_edge only needs to update the edges matrix.  "
   ]
  },
  {
   "cell_type": "code",
   "execution_count": 6,
   "metadata": {},
   "outputs": [],
   "source": [
    "class Graph:\n",
    "    vertices= {}\n",
    "    edges= [ ]           # 2-d matrix\n",
    "    edge_indices= {}\n",
    "\n",
    "    def add_vertex(self, vertex):\n",
    "        if isinstance(vertex, Vertex) and vertex.name not in self.vertices :\n",
    "            self.vertices[vertex.name] = vertex\n",
    "            # for loop appends a column of zeros to the edges matrix \n",
    "            for row in self.edges:\n",
    "                row.append(0)\n",
    "            # append a row of zeros to the bottom of the edges matrix\n",
    "            self.edges.append([0] * (len(self.edges)+1))\n",
    "            self.edge_indices[vertex.name] = len(self.edge_indices)\n",
    "            return True\n",
    "        else:\n",
    "            return False\n",
    "        \n",
    "    def add_edge(self, u, v, weight = 1):         #u- from vertex, v- to vertex. Both connected form an edge\n",
    "        if u in self.vertices and v in self.vertices:         #checking if both vertices are present in the vertices dictionary\n",
    "            self.edges[self.edge_indices[u]][self.edge_indices[v]] = weight\n",
    "            self.edges[self.edge_indices[v]][self.edge_indices[u]] = weight\n",
    "            return True\n",
    "        else:\n",
    "            return False\n",
    "    \n",
    "    def print_graph(self):\n",
    "        for v, i in sorted(self.edge_indices.items()):\n",
    "            print(v + '  ', end = ' ')\n",
    "            for j in range(len(self.edges)):\n",
    "                print(self.edges[i][j], end = '  ')\n",
    "            print('  ')"
   ]
  },
  {
   "attachments": {},
   "cell_type": "markdown",
   "metadata": {},
   "source": [
    "Test Code: \n",
    "Here we create a new Graph object. We create a new vertex named A. We add A to the graph. Then we add new vertex B to the graph. Then we iterate from A to K and add a bunch of vertices to the graph. Since the add_vertex method checks for duplicates, A and B are not added twice."
   ]
  },
  {
   "cell_type": "code",
   "execution_count": 7,
   "metadata": {},
   "outputs": [],
   "source": [
    "g = Graph()                 \n",
    "a = Vertex('A')\n",
    "g.add_vertex(a)\n",
    "g.add_vertex(Vertex('B'))\n",
    "for i in range( ord('A'), ord('K')):\n",
    "    g.add_vertex(Vertex(chr(i)))"
   ]
  },
  {
   "attachments": {},
   "cell_type": "markdown",
   "metadata": {},
   "source": [
    "An edge consists of two vertex names. Here we iterate through a list of edges and add each to the graph. \n",
    "This print_graph method doesn't give a good visualization of the graph, but it does show the adjacency matrix so we can see each vertex's neighbors. "
   ]
  },
  {
   "cell_type": "code",
   "execution_count": 8,
   "metadata": {},
   "outputs": [
    {
     "name": "stdout",
     "output_type": "stream",
     "text": [
      "A   0  1  0  0  1  0  0  0  0  0    \n",
      "B   1  0  0  0  0  1  0  0  0  0    \n",
      "C   0  0  0  0  0  0  1  0  0  0    \n",
      "D   0  0  0  0  1  0  0  1  0  0    \n",
      "E   1  0  0  1  0  0  0  1  0  0    \n",
      "F   0  1  0  0  0  0  1  0  1  1    \n",
      "G   0  0  1  0  0  1  0  0  0  1    \n",
      "H   0  0  0  1  1  0  0  0  0  0    \n",
      "I   0  0  0  0  0  1  0  0  0  0    \n",
      "J   0  0  0  0  0  1  1  0  0  0    \n"
     ]
    }
   ],
   "source": [
    "edges = ['AB', 'AE', 'BF', 'CG', 'DE', 'DH', 'EH', 'FG', 'FI', 'FJ', 'GJ']              # B and E are A's neighbors, A and F are B's neighbors. 'A' has an edge to B and E denoted with 1.\n",
    "for edge in edges:\n",
    "    g.add_edge(edge[0], edge[1])\n",
    "\n",
    "g.print_graph()"
   ]
  }
 ],
 "metadata": {
  "kernelspec": {
   "display_name": "base",
   "language": "python",
   "name": "python3"
  },
  "language_info": {
   "codemirror_mode": {
    "name": "ipython",
    "version": 3
   },
   "file_extension": ".py",
   "mimetype": "text/x-python",
   "name": "python",
   "nbconvert_exporter": "python",
   "pygments_lexer": "ipython3",
   "version": "3.8.8"
  },
  "orig_nbformat": 4,
  "vscode": {
   "interpreter": {
    "hash": "bd5d30e4ea369cc9353630f904b410c7a3bdebfd7ef17833eef9c8ea3f75d90a"
   }
  }
 },
 "nbformat": 4,
 "nbformat_minor": 2
}
